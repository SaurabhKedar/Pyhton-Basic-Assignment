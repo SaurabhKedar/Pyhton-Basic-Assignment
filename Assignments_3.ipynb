{
 "cells": [
  {
   "cell_type": "raw",
   "metadata": {},
   "source": [
    "Que. 1: Why are functions advantageous to have in your programs?\n",
    "Answer-\n",
    "       It helps to divide the large programs into small groups so that we can read the code, and debug the program faster and better. Functions stop us from writing the same logic various times. We can bind the logic in one def and then call the same over and over.\n",
    "      Functions reduce the need for duplicate code. This makes programs shorter, easier to read, and easier to update."
   ]
  },
  {
   "cell_type": "raw",
   "metadata": {},
   "source": [
    "Que. 2: When does the code in a function run: when it's specified or when it's called?\n",
    "Answer-\n",
    "       The code in afunction runs ,when the function is called.\n",
    "      When a function is called, the program control jumps to that function definition and executes the statements inside the function body. After executing the body of the function, the program control jumps back to the part of the program which called the function, and resumes execution at that point"
   ]
  },
  {
   "cell_type": "raw",
   "metadata": {},
   "source": [
    "Que. 3: What statement creates a function?\n",
    "Answer-\n",
    "     Python creating functions. A function is created with the 'def' keyword. The statements in the block of the function must be indented. The def keyword is followed by the function name with round brackets and a colon.\n",
    "     e.g. def test():      "
   ]
  },
  {
   "cell_type": "raw",
   "metadata": {},
   "source": [
    "Que. 4: What is the difference between a function and a function call?\n",
    "Answer-\n",
    "      A function is a named section of a code that performs a specific task. This typically involves taking some input, manipulating the input and returning an output.\n",
    "      While, A function call is a request made by a program or script that performs a predetermined function. In the example below, a batch file clears the screen and then calls another batch file.\n",
    "      Using a function to do a particular task any point in program is called as function call. So the difference between the function and function call is, A function is procedure to achieve a particular result while function call is using this function to achive that task."
   ]
  },
  {
   "cell_type": "raw",
   "metadata": {},
   "source": [
    "Que. 5: How many global scopes are there in a Python program? How many local scopes?\n",
    "Answer-\n",
    "      If you operate with the same variable name inside and outside of a function, Python will treat them as two separate variables, one available in the global scope (outside the function) and one available in the local scope (inside the function.\n",
    "      There's only one global Python scope per program execution. This scope remains in existence until the program terminates and all its names are forgotten.\n",
    "      When you use an unqualified name inside a function, Python searches three scopes—the local (L), then the global (G), and then the built-in (B)—and stops at the first place the name is found.\n",
    "      There is one global scope, and a local scope is created whenever a function is called."
   ]
  },
  {
   "cell_type": "raw",
   "metadata": {},
   "source": [
    "Que. 6: What happens to variables in a local scope when the function call returns?\n",
    "Answer-\n",
    "        When the execution of the function terminates (returns), the local variables are destroyed.\n",
    "              A local variable retains its value until the next time the function is called A local variable becomes       undefined after the function call completes The local variable can be used outside the function any time after the function call completes."
   ]
  },
  {
   "cell_type": "raw",
   "metadata": {},
   "source": [
    "Que.7 : What is the concept of a return value? Is it possible to have a return value in an expression?\n",
    " Answer-   \n",
    "    Return values are just what they sound like — the values that a function returns when it has completed.\n",
    "    A return is a value that a function returns to the calling script or function when it completes its task. A return value can be any one of the four variable types: handle, integer, object, or string. The type of value your function returns depends largely on the task it performs.\n",
    "    A return statement is used to end the execution of the function call and “returns” the result (value of the expression following the return keyword) to the caller. ... If the return statement is without any expression, then the special value None is returned.\n",
    "    A return value is the value that a function call evaluates to. Like any value, a return value can be used as part of an expression."
   ]
  },
  {
   "cell_type": "raw",
   "metadata": {},
   "source": [
    "Que. 8: If a function does not have a return statement, what is the return value of a call to that function?\n",
    "Answer-\n",
    "       If you don't explicitly use a return value in a return statement, or if you totally omit the return statement, then Python will implicitly return a default value for you. That default return value will always be None .\n",
    "       If there is no return statement for a function, its return value is None."
   ]
  },
  {
   "cell_type": "raw",
   "metadata": {},
   "source": [
    "Que. 9: How do you make a function variable refer to the global variable?\n",
    "Answer-\n",
    "      If your function has a local variable with same name as global variable and you want to modify the global variable inside function then use 'global' keyword before the variable name at start of function \n",
    "      A global statement will force a variable in a function to refer to the global variable."
   ]
  },
  {
   "cell_type": "code",
   "execution_count": 9,
   "metadata": {},
   "outputs": [
    {
     "name": "stdout",
     "output_type": "stream",
     "text": [
      "Total =  100\n",
      "Total =  15\n"
     ]
    }
   ],
   "source": [
    "#e.g.\n",
    "total = 100\n",
    "def func():\n",
    "    # refer to global variable 'total' inside function\n",
    "    global total\n",
    "    if total > 10:\n",
    "        total = 15\n",
    "print('Total = ', total)\n",
    "func()\n",
    "print('Total = ', total)"
   ]
  },
  {
   "cell_type": "raw",
   "metadata": {},
   "source": [
    "Que. 10: What is the data type of None?\n",
    "Answer-\n",
    "      The None keyword is used to define a null value, or no value at all. None is not the same as 0, False, or an empty string. None is a data type of its own (NoneType) and only None can be None."
   ]
  },
  {
   "cell_type": "code",
   "execution_count": 10,
   "metadata": {},
   "outputs": [
    {
     "name": "stdout",
     "output_type": "stream",
     "text": [
      "<class 'NoneType'>\n"
     ]
    }
   ],
   "source": [
    "a = None \n",
    "print(type(a))"
   ]
  },
  {
   "cell_type": "raw",
   "metadata": {},
   "source": [
    "Que. 11: What does the sentence import areallyourpetsnamederic do?\n",
    "Answer-\n",
    "      That import statement imports a module named areallyourpetsnamederic."
   ]
  },
  {
   "cell_type": "raw",
   "metadata": {},
   "source": [
    "Que. 12: If you had a bacon() feature in a spam module, what would you call it after importing spam?\n",
    "Answer-\n",
    "      After importing spam module , we call bacon() function can be called with spam.bacon()"
   ]
  },
  {
   "cell_type": "raw",
   "metadata": {},
   "source": [
    "Que. 13: What can you do to save a programme from crashing if it encounters an error?\n",
    "Answer -\n",
    "       The try block lets you test a block of code for errors. The except block lets you handle the error. The else block lets you execute code when there is no error. The finally block lets you execute code, regardless of the result of the try- and except blocks.\n",
    "       When it encounters an error, the control is passed to the except block, skipping the code in between. As seen in the above code, we have moved our code inside a try and except statement. Try running the program and it should throw an error message instead of crashing the programWhen it encounters an error, the control is passed to the except block, skipping the code in between. In the program code, we have moved our code inside a try and except statement. Try running the program and it should throw an error message instead of crashing the program."
   ]
  },
  {
   "cell_type": "raw",
   "metadata": {},
   "source": [
    "Que. 14: What is the purpose of the try clause? What is the purpose of the except clause?\n",
    "Answer-\n",
    "      The try statement allows you to define a block of code to be tested for errors while it is being executed. The catch statement allows you to define a block of code to be executed, if an error occurs in the try block.\n",
    "      The except block lets you handle the error. The else block lets you execute code when there is no error. The finally block lets you execute code, regardless of the result of the try- and except blocks."
   ]
  }
 ],
 "metadata": {
  "kernelspec": {
   "display_name": "Python 3",
   "language": "python",
   "name": "python3"
  },
  "language_info": {
   "codemirror_mode": {
    "name": "ipython",
    "version": 3
   },
   "file_extension": ".py",
   "mimetype": "text/x-python",
   "name": "python",
   "nbconvert_exporter": "python",
   "pygments_lexer": "ipython3",
   "version": "3.7.6"
  }
 },
 "nbformat": 4,
 "nbformat_minor": 4
}
