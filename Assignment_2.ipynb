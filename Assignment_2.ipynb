{
 "cells": [
  {
   "cell_type": "raw",
   "metadata": {},
   "source": [
    "Que.1: What are the two values of the Boolean data type? How do you write them?\n",
    "Answer-\n",
    "   The Boolean values can be of two types only i.e. either True or False.\n",
    "   Python boolean type is one of the built-in data types provided by Python, which represents one of the two values i.e. True or False. Generally, it is used to represent the truth values of the expressions."
   ]
  },
  {
   "cell_type": "code",
   "execution_count": 1,
   "metadata": {},
   "outputs": [
    {
     "name": "stdout",
     "output_type": "stream",
     "text": [
      "<class 'bool'>\n",
      "<class 'bool'>\n"
     ]
    }
   ],
   "source": [
    "a = True\n",
    "print(type(a))\n",
    "\n",
    "b = False\n",
    "print(type(b))"
   ]
  },
  {
   "cell_type": "raw",
   "metadata": {},
   "source": [
    "Que. 2: What are the three different types of Boolean operators?\n",
    "Answer-\n",
    "      There are three types of boolean operators:\n",
    "         i) The AND operator (&& or \"and\")\n",
    "         ii) The OR operator (|| or \"or\")\n",
    "         iii) The NOT operator (not)       \n"
   ]
  },
  {
   "cell_type": "raw",
   "metadata": {},
   "source": [
    "Que. 3: Make a list of each Boolean operator's truth tables (i.e. every possible combination of Boolean values for the             operator and what it evaluate ).\n",
    "Answer-\n",
    "      I) AND Boolean Operator in Python -\n",
    "          The AND boolean operator is similar to the bitwise AND operator where the operator analyzes the expressions written on both sides and returns the output.\n",
    "         True and True = True\n",
    "         True and False = False\n",
    "         False and True = False\n",
    "         False and False = False\n",
    "         \n",
    "      II) OR Boolean Operator in Python -\n",
    "          The OR operator is similar to the OR bitwise operator. In the bitwise OR, we were focussing on either of the bit being 1. Here, we take into account if either of the expression is true or not. If at least one expression is true, consequently, the result is true.\n",
    "         True or True = True\n",
    "         True or False = True\n",
    "         False or True = True\n",
    "         False or False = False \n",
    "\n",
    "     III) NOT Boolean Operator in Python -\n",
    "         The NOT operator reverses the result of the boolean expression that follows the operator. It is important to note that the NOT operator will only reverse the final result of the expression that immediately follows. Moreover, the NOT operator is denoted by the keyword \"not\".\n",
    "         not(True) = False\n",
    "         not(False) = True\n"
   ]
  },
  {
   "cell_type": "raw",
   "metadata": {},
   "source": [
    "Que. 4: What are the values of the following expressions?\n",
    "(5 > 4) and (3 == 5)\n",
    "not (5 > 4)\n",
    "(5 > 4) or (3 == 5)\n",
    "not ((5 > 4) or (3 == 5))\n",
    "(True and True) and (True == False)\n",
    "(not False) or (not True)\n",
    "\n",
    "Answer:\n",
    "      The values of expressions are as follows,\n",
    "      (5 > 4) and (3 == 5)    - False\n",
    "      not (5 > 4)             - False\n",
    "      (5 > 4) or (3 == 5)     -True\n",
    "      not ((5 > 4) or (3 == 5)) - False\n",
    "      (True and True) and (True == False) - False\n",
    "      (not False) or (not True)  - True"
   ]
  },
  {
   "cell_type": "code",
   "execution_count": 2,
   "metadata": {},
   "outputs": [
    {
     "data": {
      "text/plain": [
       "False"
      ]
     },
     "execution_count": 2,
     "metadata": {},
     "output_type": "execute_result"
    }
   ],
   "source": [
    "(5>4) and (3==5)"
   ]
  },
  {
   "cell_type": "code",
   "execution_count": 3,
   "metadata": {},
   "outputs": [
    {
     "data": {
      "text/plain": [
       "False"
      ]
     },
     "execution_count": 3,
     "metadata": {},
     "output_type": "execute_result"
    }
   ],
   "source": [
    "not(5>4)"
   ]
  },
  {
   "cell_type": "code",
   "execution_count": 4,
   "metadata": {},
   "outputs": [
    {
     "data": {
      "text/plain": [
       "True"
      ]
     },
     "execution_count": 4,
     "metadata": {},
     "output_type": "execute_result"
    }
   ],
   "source": [
    "(5>4) or (3==5)"
   ]
  },
  {
   "cell_type": "code",
   "execution_count": 5,
   "metadata": {},
   "outputs": [
    {
     "data": {
      "text/plain": [
       "False"
      ]
     },
     "execution_count": 5,
     "metadata": {},
     "output_type": "execute_result"
    }
   ],
   "source": [
    "not((5>4) or (3==5))"
   ]
  },
  {
   "cell_type": "code",
   "execution_count": 6,
   "metadata": {},
   "outputs": [
    {
     "data": {
      "text/plain": [
       "False"
      ]
     },
     "execution_count": 6,
     "metadata": {},
     "output_type": "execute_result"
    }
   ],
   "source": [
    "(True and False) and (True == False)"
   ]
  },
  {
   "cell_type": "code",
   "execution_count": 7,
   "metadata": {},
   "outputs": [
    {
     "data": {
      "text/plain": [
       "True"
      ]
     },
     "execution_count": 7,
     "metadata": {},
     "output_type": "execute_result"
    }
   ],
   "source": [
    "(not False) or (not True)"
   ]
  },
  {
   "cell_type": "raw",
   "metadata": {},
   "source": [
    "Que. 5: What are the six comparison operators?\n",
    "Answer:\n",
    "    In programming, you often want to compare a value with another value. To do that, you use comparison operators.\n",
    "         Python has six comparison operators, which are as follows,\n",
    "           i) Less than ( < )\n",
    "           ii) Less than or equal to (<=)\n",
    "           iii) Greater than (>)\n",
    "           iv) Greater than or equal to (>=)\n",
    "           v) Equal to ( == )\n",
    "           vi) Not equal to ( != )\n",
    "\n",
    "\n"
   ]
  },
  {
   "cell_type": "raw",
   "metadata": {},
   "source": [
    "Que. 6: How do you tell the difference between the equal to and assignment operators? Describe a condition and when you              would use one.\n",
    "Answer:\n",
    "      The “=” is an assignment operator is used to assign the value on the right to the variable on the left.\n",
    "      e.g.- a = 5\n",
    "            b = 9\n",
    "            \n",
    "      The ‘==’ operator checks whether the two given operands are equal or not. If so, it returns true. Otherwise it                returns false.\n",
    "      e.g. 7 == 7  \n",
    "           this will return True"
   ]
  },
  {
   "cell_type": "raw",
   "metadata": {},
   "source": [
    "Que. 7: Identify the three blocks in this code:\n",
    "spam = 0\n",
    "if spam == 10:\n",
    "print('eggs')\n",
    "if spam > 5:\n",
    "print('bacon')\n",
    "else:\n",
    "print('ham')\n",
    "print('spam')\n",
    "print('spam')\n",
    "\n",
    "Answer:\n",
    "      The three blocks are everything inside the if statement and the lines print('bacon') and print('ham').\n",
    "         print('eggs')\n",
    "         if spam > 5:\n",
    "         print('bacon')\n",
    "         else:\n",
    "         print('ham')\n",
    "         print('spam')"
   ]
  },
  {
   "cell_type": "code",
   "execution_count": 8,
   "metadata": {},
   "outputs": [
    {
     "name": "stdout",
     "output_type": "stream",
     "text": [
      "ham\n",
      "spam\n",
      "spam\n"
     ]
    }
   ],
   "source": [
    "spam = 0\n",
    "if spam == 10:\n",
    "    print('eggs')\n",
    "if spam > 5:\n",
    "    print('bacon')\n",
    "else:\n",
    "    print('ham')\n",
    "    print('spam')\n",
    "    print('spam')\n"
   ]
  },
  {
   "cell_type": "raw",
   "metadata": {},
   "source": [
    "Que. 8: Write code that prints Hello if 1 is stored in spam, prints Howdy if 2 is stored in spam, and prints Greetings! \n",
    "    if anything else is stored in spam.\n",
    " "
   ]
  },
  {
   "cell_type": "code",
   "execution_count": 13,
   "metadata": {},
   "outputs": [
    {
     "name": "stdout",
     "output_type": "stream",
     "text": [
      "4\n",
      "Howdy\n"
     ]
    }
   ],
   "source": [
    "#Answer\n",
    "spam = int(input())\n",
    "if spam == 1:\n",
    "    print('Hello')\n",
    "elif spam > 1:\n",
    "    print('Howdy')\n",
    "else:\n",
    "    print('Greetings')"
   ]
  },
  {
   "cell_type": "raw",
   "metadata": {},
   "source": [
    "Que. 9: If your programme is stuck in an endless loop, what keys you’ll press?\n",
    "Answer:\n",
    "    An infinite loop is a loop that runs indefinitely and it only stops with external intervention or when a break statement is found. You can stop an infinite loop with CTRL + C ."
   ]
  },
  {
   "cell_type": "raw",
   "metadata": {},
   "source": [
    "Que. 10: How can you tell the difference between break and continue?\n",
    "Answer:\n",
    "     The main difference between both the statements is that when break keyword comes, it terminates the execution of the current loop and passes the control over the next loop or main body, whereas when continue keyword is encountered, it skips the current iteration and executes the very next iteration in the loop."
   ]
  },
  {
   "cell_type": "raw",
   "metadata": {},
   "source": [
    "Que. 11: . In a for loop, what is the difference between range(10), range(0, 10), and range(0, 10, 1)?\n",
    "Answer:\n",
    "     Python range() function returns the sequence of the given number between the given range. range() is a built-in function of Python. It is used when a user needs to perform an action a specific number of times.\n",
    "     Python range syntax\n",
    "       range(stop)\n",
    "\n",
    "       range(start, stop[, step])\n",
    "    As we can see there is no difference between th outputs of range(10) , range(0,10) , range(0,10,1).so only difference we can particularly mention start,stop and steps in range function"
   ]
  },
  {
   "cell_type": "raw",
   "metadata": {},
   "source": [
    "Que. 12: Write a short program that prints the numbers 1 to 10 using a for loop. Then write an equivalent program that prints the numbers 1 to 10 using a while loop."
   ]
  },
  {
   "cell_type": "code",
   "execution_count": 18,
   "metadata": {},
   "outputs": [
    {
     "name": "stdout",
     "output_type": "stream",
     "text": [
      "1\n",
      "2\n",
      "3\n",
      "4\n",
      "5\n",
      "6\n",
      "7\n",
      "8\n",
      "9\n",
      "10\n",
      "1\n",
      "2\n",
      "3\n",
      "4\n",
      "5\n",
      "6\n",
      "7\n",
      "8\n",
      "9\n",
      "10\n"
     ]
    }
   ],
   "source": [
    "#Answer :\n",
    "#using for loop\n",
    "for i in range(1,11):\n",
    "    print(i)\n",
    "    \n",
    "#using while loop\n",
    "j = 1\n",
    "while j <= 10:\n",
    "    print(j)\n",
    "    j +=1"
   ]
  },
  {
   "cell_type": "raw",
   "metadata": {},
   "source": [
    "Que. 13: If you had a function named bacon() inside a module named spam, how would you call it after importing spam?\n",
    "Answer:\n",
    "       Firstly we import th module spam by using\n",
    "         import spam\n",
    "       and then the function can be called as \n",
    "          spam.bacon("
   ]
  }
 ],
 "metadata": {
  "kernelspec": {
   "display_name": "Python 3",
   "language": "python",
   "name": "python3"
  },
  "language_info": {
   "codemirror_mode": {
    "name": "ipython",
    "version": 3
   },
   "file_extension": ".py",
   "mimetype": "text/x-python",
   "name": "python",
   "nbconvert_exporter": "python",
   "pygments_lexer": "ipython3",
   "version": "3.7.6"
  }
 },
 "nbformat": 4,
 "nbformat_minor": 4
}
