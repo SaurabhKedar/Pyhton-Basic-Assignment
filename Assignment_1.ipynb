{
 "cells": [
  {
   "cell_type": "raw",
   "metadata": {},
   "source": [
    "Que.1 :  In the below elements which of them are values or an expression? eg:- values can be\n",
    "   integer or string and expressions will be mathematical operators.\n",
    " * ,  'hello' , - , -87.8 , / , + , 6\n",
    " Answer:\n",
    "        In the given question ,\n",
    "    i) Values are 'hello' , -87.8 , 6\n",
    "    ii) expressions are  * , - , / , +\n",
    " "
   ]
  },
  {
   "cell_type": "raw",
   "metadata": {},
   "source": [
    "Que.2 : What is the difference between string and variable?\n",
    "Answer:\n",
    "      A string is a sequence of one or more characters (letters, numbers, symbols) that can be either a constant or a variable. Made up of Unicode, strings are immutable sequences, meaning they are unchanging.\n",
    "          Because text is such a common form of data that we use in everyday life, the string data type is a very important building block of programming.\n",
    "    e.g.- \"My name is Saurabh\" \n",
    "        In this example whole sentence is a string\n",
    "          Whereas, Variables are symbols that you can use to store data in a program. You can think of them as an empty box that you fill with some data or value. Strings are data, so we can use them to fill up a variable. Declaring strings as variables can make it easier for us to work with strings throughout our Python programs.\n",
    "      e.g. - my_id = \"My name is Saurabh\"  \n",
    "      in this this example my_id is variable which stores a string"
   ]
  },
  {
   "cell_type": "raw",
   "metadata": {},
   "source": [
    "Que.3: Describe three different data types.\n",
    "Answer:\n",
    "     Data types are the classification or categorization of data items. It represents the kind of value that tells what operations can be performed on a particular data. Since everything is an object in Python programming, data types are actually classes and variables are instance (object) of these classes.\n",
    "     Following are the standard or built-in data type of Python:\n",
    "        1) Numeric   2) Sequence Types 3) Boolean  4) Set 5) Dictionary\n",
    "        \n",
    "    1) Numeric:-\n",
    "             In Python, numeric data type represent the data which has numeric value. Numeric value can be integer, floating number or even complex numbers. These values are defined as int, float and complex class in Python.\n",
    "\n",
    "       -Integers : This value is represented by int class. It contains positive or negative whole numbers (without fraction or decimal). In Python there is no limit to how long an integer value can be.\n",
    "       -Float :This value is represented by float class. It is a real number with floating point representation. It is specified by a decimal point. Optionally, the character e or E followed by a positive or negative integer may be appended to specify scientific notation.\n",
    "      -Complex Numbers : Complex number is represented by complex class. It is specified as (real part) + (imaginary part)j. For example – 2+3j  \n",
    "      \n",
    "    2) Sequence Type:-\n",
    "In Python, sequence is the ordered collection of similar or different data types. Sequences allows to store multiple values in an organized and efficient fashion. There are several sequence types in Python –\n",
    "\n",
    "      -String:\n",
    "          In Python, Strings are arrays of bytes representing Unicode characters. A string is a collection of one or more characters put in a single quote, double-quote or triple quote. In python there is no character data type, a character is a string of length one. It is represented by str class.\n",
    "      -List:\n",
    "          In Python, a list is created by placing elements inside square brackets [] , separated by commas\n",
    "      -Tuple:  \n",
    "            tuple is also an ordered collection of Python objects. The only difference between tuple and list is that tuples are immutable i.e. tuples cannot be modified after it is created. It is represented by tuple class.\n",
    "            \n",
    "     3)Boolean:-    \n",
    "          Data type with one of the two built-in values, True or False. Boolean objects that are equal to True are truthy (true), and those equal to False are falsy (false). But non-Boolean objects can be evaluated in Boolean context as well and determined to be true or false. It is denoted by the class bool. \n",
    "          \n",
    "      4)Set:- \n",
    "      In Python, Set is an unordered collection of data type that is iterable, mutable and has no duplicate elements. The order of elements in a set is undefined though it may consist of various elements.\n",
    "      \n",
    "      5)Dictionary:- \n",
    "        Dictionary in Python is an unordered collection of data values, used to store data values like a map, which unlike other Data Types that hold only single value as an element, Dictionary holds key:value pair. Key-value is provided in the dictionary to make it more optimized. Each key-value pair in a Dictionary is separated by a colon :, whereas each key is separated by a ‘comma’."
   ]
  },
  {
   "cell_type": "raw",
   "metadata": {},
   "source": [
    "Que. 4 : What is an expression made up of? What do all expressions do?\n",
    "Answer:\n",
    "     An expression is a combination of operators and operands that is interpreted to produce some other value. In any programming language, an expression is evaluated as per the precedence of its operators. So that if there is more than one operator in an expression, their precedence decides which operation will be performed first.\n",
    "      Expressions are used to compute and to assign values to variables and to help control the execution flow of a program. The job of an expression is twofold: to perform the computation indicated by the elements of the expression and to return a value that is the result of the computation."
   ]
  },
  {
   "cell_type": "raw",
   "metadata": {},
   "source": [
    "Que. 5: This assignment statements, like spam = 10. What is the difference between an\n",
    "expression and a statement?\n",
    "Answer:\n",
    "       An expression is a combination of operators and operands that is interpreted to produce some other value. In any programming language, an expression is evaluated as per the precedence of its operators. So that if there is more than one operator in an expression, their precedence decides which operation will be performed first.\n",
    "       \n",
    "       A statement is an instruction that a Python interpreter can execute. So, in simple words, we can say anything written in Python is a statement.Python statement ends with the token NEWLINE character. It means each line in a Python script is a statement.Python statement ends with the token NEWLINE character. It means each line in a Python script is a statement.\n",
    "       \n",
    "       In short, An Expression always evaluates to a value  and A statement does something, like creating a variable or displaying a value, it only does whatever the statement says."
   ]
  },
  {
   "cell_type": "raw",
   "metadata": {},
   "source": [
    "Que. 6: After running the following code, what does the variable bacon contain?\n",
    "bacon = 22\n",
    "bacon + 1\n",
    "Answer:\n",
    "     After Running the code the variable bacon contains a value which is equal to 23."
   ]
  },
  {
   "cell_type": "code",
   "execution_count": 1,
   "metadata": {},
   "outputs": [
    {
     "data": {
      "text/plain": [
       "23"
      ]
     },
     "execution_count": 1,
     "metadata": {},
     "output_type": "execute_result"
    }
   ],
   "source": [
    "#Answer\n",
    "bacon = 22\n",
    "bacon + 1"
   ]
  },
  {
   "cell_type": "raw",
   "metadata": {},
   "source": [
    "Que.7: What should the values of the following two terms be?\n",
    "'spam' + 'spamspam'\n",
    "'spam'*3\n",
    "Answer:\n",
    "   The first term contains the value which is 'spamspamspam'  and the second term contains value is'spamspamspam'"
   ]
  },
  {
   "cell_type": "code",
   "execution_count": 3,
   "metadata": {},
   "outputs": [
    {
     "data": {
      "text/plain": [
       "'spamspamspam'"
      ]
     },
     "execution_count": 3,
     "metadata": {},
     "output_type": "execute_result"
    }
   ],
   "source": [
    "#Answer term1\n",
    "'spam' + 'spamspam'\n"
   ]
  },
  {
   "cell_type": "code",
   "execution_count": 4,
   "metadata": {},
   "outputs": [
    {
     "data": {
      "text/plain": [
       "'spamspamspam'"
      ]
     },
     "execution_count": 4,
     "metadata": {},
     "output_type": "execute_result"
    }
   ],
   "source": [
    "#Answer term2\n",
    "'spam'*3"
   ]
  },
  {
   "cell_type": "raw",
   "metadata": {},
   "source": [
    "Que. 8: Why is eggs a valid variable name while 100 is invalid?\n",
    "Answer:\n",
    "     Variable names cannot begin with a number."
   ]
  },
  {
   "cell_type": "raw",
   "metadata": {},
   "source": [
    "Que. 9 :  What three functions can be used to get the integer, floating-point number, or string\n",
    "          version of a value?\n",
    "Answer:\n",
    "    Functions that are used to get the integer, floating-point number, or string version of a value\n",
    "     are int() , float(), str() respectively."
   ]
  },
  {
   "cell_type": "raw",
   "metadata": {},
   "source": [
    "Que. 10 : Why does this expression cause an error? How can you fix it?\n",
    "          'I have eaten' + 99 + 'burritos'\n",
    "Answer:\n",
    "     'I have eaten ' + 99 + ' burritos. ' The expression causes an error because 99 is an integer, and only strings can be concatenated to other strings with the + operator. \n",
    "     The correct way is 'I have eaten' + str(99) + ' burritos'"
   ]
  },
  {
   "cell_type": "code",
   "execution_count": 5,
   "metadata": {},
   "outputs": [
    {
     "data": {
      "text/plain": [
       "'I have Eaten 99burritos'"
      ]
     },
     "execution_count": 5,
     "metadata": {},
     "output_type": "execute_result"
    }
   ],
   "source": [
    "#answer\n",
    "'I have Eaten ' + str(99) + 'burritos'"
   ]
  },
  {
   "cell_type": "code",
   "execution_count": null,
   "metadata": {},
   "outputs": [],
   "source": []
  }
 ],
 "metadata": {
  "kernelspec": {
   "display_name": "Python 3",
   "language": "python",
   "name": "python3"
  },
  "language_info": {
   "codemirror_mode": {
    "name": "ipython",
    "version": 3
   },
   "file_extension": ".py",
   "mimetype": "text/x-python",
   "name": "python",
   "nbconvert_exporter": "python",
   "pygments_lexer": "ipython3",
   "version": "3.7.6"
  }
 },
 "nbformat": 4,
 "nbformat_minor": 4
}
